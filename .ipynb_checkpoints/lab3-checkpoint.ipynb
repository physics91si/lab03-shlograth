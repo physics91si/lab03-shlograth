{
 "cells": [
  {
   "cell_type": "markdown",
   "metadata": {},
   "source": [
    "# Physics 91SI: Lab 3\n",
    "\n",
    "Part 1\n",
    "------"
   ]
  },
  {
   "cell_type": "code",
   "execution_count": 1,
   "metadata": {},
   "outputs": [],
   "source": [
    "# Don't edit this function\n",
    "def load_sample():\n",
    "    \"\"\"Return the entire text of Hamlet in a string.\"\"\"\n",
    "    with open('hamlet.txt') as f:\n",
    "        sample = f.read()\n",
    "    return sample"
   ]
  },
  {
   "cell_type": "code",
   "execution_count": null,
   "metadata": {},
   "outputs": [],
   "source": [
    "# Edit this function. \"pass\" tells Python to do nothing.\n",
    "def parse_sample(): pass"
   ]
  },
  {
   "cell_type": "markdown",
   "metadata": {},
   "source": [
    "Part 2\n",
    "------"
   ]
  },
  {
   "cell_type": "code",
   "execution_count": null,
   "metadata": {},
   "outputs": [],
   "source": [
    "def count_freq(lst):\n",
    "    \"\"\"Return a dict of word frequencies given a list of words.\n",
    "    \n",
    "    Arguments:\n",
    "    -- lst: a list of strings\n",
    "    \n",
    "    Returns:\n",
    "    -- freq_dict: a dictionary of word: frequency pairs. The keys are strings\n",
    "       containing the words, and the values are integers indicating how many\n",
    "       times each word appears.\n",
    "    \n",
    "    Example:\n",
    "    >>> count_freq(['time', 'after', 'time'])\n",
    "    {'time': 2, 'after': 1}\n",
    "    \"\"\"\n",
    "    pass\n",
    "\n",
    "def mean(lst):\n",
    "    \"\"\"Return the arithmetic mean of a list of numbers.\"\"\"\n",
    "    pass\n",
    "\n",
    "def stdev(lst):\n",
    "    \"\"\"Return the standard deviation of a list of numbers.\"\"\"\n",
    "    pass\n",
    "\n",
    "def median(lst):\n",
    "    \"\"\"Return the median of a list of numbers.\"\"\"\n",
    "    pass"
   ]
  },
  {
   "cell_type": "markdown",
   "metadata": {},
   "source": [
    "Part 3\n",
    "------"
   ]
  },
  {
   "cell_type": "code",
   "execution_count": null,
   "metadata": {},
   "outputs": [],
   "source": [
    "def print_stats(lst):\n",
    "    \"\"\"Print common statistics about the word frequencies of a list of words.\"\"\"\n",
    "    pass"
   ]
  }
 ],
 "metadata": {
  "kernelspec": {
   "display_name": "Python 2",
   "language": "python",
   "name": "python2"
  },
  "language_info": {
   "codemirror_mode": {
    "name": "ipython",
    "version": 2
   },
   "file_extension": ".py",
   "mimetype": "text/x-python",
   "name": "python",
   "nbconvert_exporter": "python",
   "pygments_lexer": "ipython2",
   "version": "2.7.14"
  }
 },
 "nbformat": 4,
 "nbformat_minor": 1
}
