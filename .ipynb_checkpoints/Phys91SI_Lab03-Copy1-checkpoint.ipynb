{
 "cells": [
  {
   "cell_type": "code",
   "execution_count": null,
   "metadata": {},
   "outputs": [],
   "source": [
    "# Don't edit this function\n",
    "def load_sample():\n",
    "    \"\"\"Return the entire text of Hamlet in a string.\"\"\"\n",
    "    with open('hamlet.txt') as f:\n",
    "        sample = f.read()\n",
    "    return sample"
   ]
  },
  {
   "cell_type": "code",
   "execution_count": null,
   "metadata": {},
   "outputs": [],
   "source": [
    "# Edit this function. \"pass\" tells Python to do nothing.\n",
    "def parse_sample(text, words_only = false, sort_list = false):\n",
    "    newText = text.split(\" \")\n",
    "    newestText = []\n",
    "    if words_only:\n",
    "        for i in range(0,len(newText)-1):\n",
    "            for item in newText:\n",
    "                punct = [\",\", \".\", \"?\", \":\", \";\", \"'\", \"!\", \"\\\"\"]\n",
    "                for p in punct:\n",
    "                    item = item.replace(p, \"\")\n",
    "                    newText[i] = item\n",
    "    if sort_list:\n",
    "        newText.sort()\n",
    "    return newText"
   ]
  },
  {
   "cell_type": "code",
   "execution_count": null,
   "metadata": {},
   "outputs": [],
   "source": [
    "from numpy import median\n",
    "\n",
    "from collections import counter\n",
    "\n",
    "def count_freq(lst):\n",
    "    \"\"\"Return a dict of word frequencies given a list of words.\n",
    "    \n",
    "    Arguments:\n",
    "    -- lst: a list of strings\n",
    "    \n",
    "    Returns:\n",
    "    -- freq_dict: a dictionary of word: frequency pairs. The keys are strings\n",
    "       containing the words, and the values are integers indicating how many\n",
    "       times each word appears.\n",
    "    \n",
    "    Example:\n",
    "    >>> count_freq(['time', 'after', 'time'])\n",
    "    {'time': 2, 'after': 1}\n",
    "    \"\"\"\n",
    "    c = Counter()\n",
    "    for word in lst:\n",
    "        cnt[word] += 1\n",
    "    return cnt\n",
    "\n",
    "def mean(lst):\n",
    "    \"\"\"Return the arithmetic mean of a list of numbers.\"\"\"\n",
    "    n = len(lst)\n",
    "    x = sum(lst)\n",
    "    return x/n\n",
    "        \n",
    "        \n",
    "\n",
    "def stdev(lst):\n",
    "    \"\"\"Return the standard deviation of a list of numbers.\"\"\"\n",
    "    x = mean(lst)\n",
    "    sum = 0\n",
    "    N = len(list)\n",
    "    for pt in lst:\n",
    "        term = (x - pt) ** 2\n",
    "        sum += term\n",
    "    newSum = (1/N) * sum\n",
    "    sigma = newSum ** (.5)\n",
    "    return sigma\n",
    "    \n",
    "def median(lst):\n",
    "    \"\"\"Return the median of a list of numbers.\"\"\"\n",
    "    newLst = lst.sort()\n",
    "    return median(newLst)"
   ]
  },
  {
   "cell_type": "code",
   "execution_count": null,
   "metadata": {},
   "outputs": [],
   "source": [
    "def print_stats(lst):\n",
    "    \"\"\"Print common statistics about the word frequencies of a list of words.\"\"\"\n",
    "    print(\"Frequency List: \", count_freq(lst))\n",
    "    print(\"The Mean of the List: \", mean(lst))\n",
    "    print(\"The Standard Deviation of the List: \", stdev(lst))\n",
    "    print(\"The Median of the List: \", median(lst)) "
   ]
  }
 ],
 "metadata": {
  "kernelspec": {
   "display_name": "Python 2",
   "language": "python",
   "name": "python2"
  },
  "language_info": {
   "codemirror_mode": {
    "name": "ipython",
    "version": 2
   },
   "file_extension": ".py",
   "mimetype": "text/x-python",
   "name": "python",
   "nbconvert_exporter": "python",
   "pygments_lexer": "ipython2",
   "version": "2.7.14"
  }
 },
 "nbformat": 4,
 "nbformat_minor": 2
}
